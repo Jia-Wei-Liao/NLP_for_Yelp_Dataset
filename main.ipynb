{
  "nbformat": 4,
  "nbformat_minor": 0,
  "metadata": {
    "colab": {
      "name": "HW4.ipynb",
      "provenance": []
    },
    "kernelspec": {
      "name": "python3",
      "display_name": "Python 3"
    },
    "language_info": {
      "name": "python"
    },
    "accelerator": "GPU"
  },
  "cells": [
    {
      "cell_type": "code",
      "metadata": {
        "colab": {
          "base_uri": "https://localhost:8080/"
        },
        "id": "Dy4By2wPT5Ck",
        "outputId": "7899a758-7546-4714-bc29-85d9b837e2a7"
      },
      "source": [
        "from google.colab import drive\n",
        "drive.mount('/content/drive')"
      ],
      "execution_count": 1,
      "outputs": [
        {
          "output_type": "stream",
          "name": "stdout",
          "text": [
            "Drive already mounted at /content/drive; to attempt to forcibly remount, call drive.mount(\"/content/drive\", force_remount=True).\n"
          ]
        }
      ]
    },
    {
      "cell_type": "markdown",
      "metadata": {
        "id": "UZXuSWrACkPI"
      },
      "source": [
        "# Import Package"
      ]
    },
    {
      "cell_type": "code",
      "metadata": {
        "id": "QzyRx1QmVPvD"
      },
      "source": [
        "import os\n",
        "import re\n",
        "import numpy as np\n",
        "import pandas as pd\n",
        "import matplotlib.pyplot as plt\n",
        "\n",
        "from sklearn.model_selection import train_test_split\n",
        "from matplotlib.ticker import MaxNLocator"
      ],
      "execution_count": 2,
      "outputs": []
    },
    {
      "cell_type": "code",
      "metadata": {
        "id": "t1-HD-nCucj_"
      },
      "source": [
        "import nltk\n",
        "import gensim.downloader\n",
        "\n",
        "from nltk.corpus import stopwords\n",
        "from gensim.models import Word2Vec"
      ],
      "execution_count": 3,
      "outputs": []
    },
    {
      "cell_type": "code",
      "metadata": {
        "id": "5MwIldpohgr4"
      },
      "source": [
        "import tensorflow as tf\n",
        "from tensorflow.keras.preprocessing.text import Tokenizer\n",
        "from tensorflow.keras.preprocessing.sequence import pad_sequences\n",
        "from tensorflow.keras.models import Sequential\n",
        "from tensorflow.keras.layers import Embedding, Dense, LSTM, Dropout, Conv1D, MaxPooling1D, Flatten"
      ],
      "execution_count": 4,
      "outputs": []
    },
    {
      "cell_type": "code",
      "metadata": {
        "id": "4ShobNa_U2S6"
      },
      "source": [
        "os.chdir('/content/drive/Shareddrives/NYCU/1101/DataMining/HW4_309652008_廖家緯')"
      ],
      "execution_count": 5,
      "outputs": []
    },
    {
      "cell_type": "markdown",
      "metadata": {
        "id": "V9EQeKtsw25d"
      },
      "source": [
        "# Data Preprocessing"
      ]
    },
    {
      "cell_type": "code",
      "metadata": {
        "colab": {
          "base_uri": "https://localhost:8080/",
          "height": 293
        },
        "id": "DIi5JE0CVUzx",
        "outputId": "85d6f88e-1fb4-48cb-b8f9-847acee1e746"
      },
      "source": [
        "df = pd.read_csv('yelp.csv')\n",
        "df.head()"
      ],
      "execution_count": 6,
      "outputs": [
        {
          "output_type": "execute_result",
          "data": {
            "text/html": [
              "<div>\n",
              "<style scoped>\n",
              "    .dataframe tbody tr th:only-of-type {\n",
              "        vertical-align: middle;\n",
              "    }\n",
              "\n",
              "    .dataframe tbody tr th {\n",
              "        vertical-align: top;\n",
              "    }\n",
              "\n",
              "    .dataframe thead th {\n",
              "        text-align: right;\n",
              "    }\n",
              "</style>\n",
              "<table border=\"1\" class=\"dataframe\">\n",
              "  <thead>\n",
              "    <tr style=\"text-align: right;\">\n",
              "      <th></th>\n",
              "      <th>business_id</th>\n",
              "      <th>date</th>\n",
              "      <th>review_id</th>\n",
              "      <th>stars</th>\n",
              "      <th>text</th>\n",
              "      <th>type</th>\n",
              "      <th>user_id</th>\n",
              "      <th>cool</th>\n",
              "      <th>useful</th>\n",
              "      <th>funny</th>\n",
              "    </tr>\n",
              "  </thead>\n",
              "  <tbody>\n",
              "    <tr>\n",
              "      <th>0</th>\n",
              "      <td>9yKzy9PApeiPPOUJEtnvkg</td>\n",
              "      <td>2011-01-26</td>\n",
              "      <td>fWKvX83p0-ka4JS3dc6E5A</td>\n",
              "      <td>5</td>\n",
              "      <td>My wife took me here on my birthday for breakf...</td>\n",
              "      <td>review</td>\n",
              "      <td>rLtl8ZkDX5vH5nAx9C3q5Q</td>\n",
              "      <td>2</td>\n",
              "      <td>5</td>\n",
              "      <td>0</td>\n",
              "    </tr>\n",
              "    <tr>\n",
              "      <th>1</th>\n",
              "      <td>ZRJwVLyzEJq1VAihDhYiow</td>\n",
              "      <td>2011-07-27</td>\n",
              "      <td>IjZ33sJrzXqU-0X6U8NwyA</td>\n",
              "      <td>5</td>\n",
              "      <td>I have no idea why some people give bad review...</td>\n",
              "      <td>review</td>\n",
              "      <td>0a2KyEL0d3Yb1V6aivbIuQ</td>\n",
              "      <td>0</td>\n",
              "      <td>0</td>\n",
              "      <td>0</td>\n",
              "    </tr>\n",
              "    <tr>\n",
              "      <th>2</th>\n",
              "      <td>6oRAC4uyJCsJl1X0WZpVSA</td>\n",
              "      <td>2012-06-14</td>\n",
              "      <td>IESLBzqUCLdSzSqm0eCSxQ</td>\n",
              "      <td>4</td>\n",
              "      <td>love the gyro plate. Rice is so good and I als...</td>\n",
              "      <td>review</td>\n",
              "      <td>0hT2KtfLiobPvh6cDC8JQg</td>\n",
              "      <td>0</td>\n",
              "      <td>1</td>\n",
              "      <td>0</td>\n",
              "    </tr>\n",
              "    <tr>\n",
              "      <th>3</th>\n",
              "      <td>_1QQZuf4zZOyFCvXc0o6Vg</td>\n",
              "      <td>2010-05-27</td>\n",
              "      <td>G-WvGaISbqqaMHlNnByodA</td>\n",
              "      <td>5</td>\n",
              "      <td>Rosie, Dakota, and I LOVE Chaparral Dog Park!!...</td>\n",
              "      <td>review</td>\n",
              "      <td>uZetl9T0NcROGOyFfughhg</td>\n",
              "      <td>1</td>\n",
              "      <td>2</td>\n",
              "      <td>0</td>\n",
              "    </tr>\n",
              "    <tr>\n",
              "      <th>4</th>\n",
              "      <td>6ozycU1RpktNG2-1BroVtw</td>\n",
              "      <td>2012-01-05</td>\n",
              "      <td>1uJFq2r5QfJG_6ExMRCaGw</td>\n",
              "      <td>5</td>\n",
              "      <td>General Manager Scott Petello is a good egg!!!...</td>\n",
              "      <td>review</td>\n",
              "      <td>vYmM4KTsC8ZfQBg-j5MWkw</td>\n",
              "      <td>0</td>\n",
              "      <td>0</td>\n",
              "      <td>0</td>\n",
              "    </tr>\n",
              "  </tbody>\n",
              "</table>\n",
              "</div>"
            ],
            "text/plain": [
              "              business_id        date  ... useful  funny\n",
              "0  9yKzy9PApeiPPOUJEtnvkg  2011-01-26  ...      5      0\n",
              "1  ZRJwVLyzEJq1VAihDhYiow  2011-07-27  ...      0      0\n",
              "2  6oRAC4uyJCsJl1X0WZpVSA  2012-06-14  ...      1      0\n",
              "3  _1QQZuf4zZOyFCvXc0o6Vg  2010-05-27  ...      2      0\n",
              "4  6ozycU1RpktNG2-1BroVtw  2012-01-05  ...      0      0\n",
              "\n",
              "[5 rows x 10 columns]"
            ]
          },
          "metadata": {},
          "execution_count": 6
        }
      ]
    },
    {
      "cell_type": "markdown",
      "metadata": {
        "id": "QN7bHgVNCgTi"
      },
      "source": [
        "## Eliminate stop word"
      ]
    },
    {
      "cell_type": "code",
      "metadata": {
        "colab": {
          "base_uri": "https://localhost:8080/"
        },
        "id": "l__TX4I2ujJp",
        "outputId": "597f011a-c2d7-4e16-d84c-a712ec6e10d0"
      },
      "source": [
        "nltk.download('stopwords')\n",
        "\n",
        "def transforms(sentence):\n",
        "  words = re.sub('[^a-zA-Z]',' ', sentence.lower()).split()\n",
        "  stop_words = set(stopwords.words(\"english\"))\n",
        "  words = [w for w in words if not w in stop_words]\n",
        "\n",
        "  return words"
      ],
      "execution_count": 7,
      "outputs": [
        {
          "output_type": "stream",
          "name": "stdout",
          "text": [
            "[nltk_data] Downloading package stopwords to /root/nltk_data...\n",
            "[nltk_data]   Package stopwords is already up-to-date!\n"
          ]
        }
      ]
    },
    {
      "cell_type": "code",
      "metadata": {
        "colab": {
          "base_uri": "https://localhost:8080/",
          "height": 206
        },
        "id": "zWc6iNc8Vmn6",
        "outputId": "e44e2727-9fb7-44db-a66a-09e7c4de1e08"
      },
      "source": [
        "data = pd.DataFrame([])\n",
        "# data.loc[:, 'sentence'] = df['text'].map(lambda x: re.sub(r'[0-9\\.\\-\\!\\\"\\(\\)\\,:]', '', x.lower()).split())\n",
        "data.loc[:, 'sentence'] = df['text'].map(transforms)\n",
        "data.loc[:, 'label'] = df['stars'].map(lambda x: int(x>=4))\n",
        "data.head()"
      ],
      "execution_count": 8,
      "outputs": [
        {
          "output_type": "execute_result",
          "data": {
            "text/html": [
              "<div>\n",
              "<style scoped>\n",
              "    .dataframe tbody tr th:only-of-type {\n",
              "        vertical-align: middle;\n",
              "    }\n",
              "\n",
              "    .dataframe tbody tr th {\n",
              "        vertical-align: top;\n",
              "    }\n",
              "\n",
              "    .dataframe thead th {\n",
              "        text-align: right;\n",
              "    }\n",
              "</style>\n",
              "<table border=\"1\" class=\"dataframe\">\n",
              "  <thead>\n",
              "    <tr style=\"text-align: right;\">\n",
              "      <th></th>\n",
              "      <th>sentence</th>\n",
              "      <th>label</th>\n",
              "    </tr>\n",
              "  </thead>\n",
              "  <tbody>\n",
              "    <tr>\n",
              "      <th>0</th>\n",
              "      <td>[wife, took, birthday, breakfast, excellent, w...</td>\n",
              "      <td>1</td>\n",
              "    </tr>\n",
              "    <tr>\n",
              "      <th>1</th>\n",
              "      <td>[idea, people, give, bad, reviews, place, goes...</td>\n",
              "      <td>1</td>\n",
              "    </tr>\n",
              "    <tr>\n",
              "      <th>2</th>\n",
              "      <td>[love, gyro, plate, rice, good, also, dig, can...</td>\n",
              "      <td>1</td>\n",
              "    </tr>\n",
              "    <tr>\n",
              "      <th>3</th>\n",
              "      <td>[rosie, dakota, love, chaparral, dog, park, co...</td>\n",
              "      <td>1</td>\n",
              "    </tr>\n",
              "    <tr>\n",
              "      <th>4</th>\n",
              "      <td>[general, manager, scott, petello, good, egg, ...</td>\n",
              "      <td>1</td>\n",
              "    </tr>\n",
              "  </tbody>\n",
              "</table>\n",
              "</div>"
            ],
            "text/plain": [
              "                                            sentence  label\n",
              "0  [wife, took, birthday, breakfast, excellent, w...      1\n",
              "1  [idea, people, give, bad, reviews, place, goes...      1\n",
              "2  [love, gyro, plate, rice, good, also, dig, can...      1\n",
              "3  [rosie, dakota, love, chaparral, dog, park, co...      1\n",
              "4  [general, manager, scott, petello, good, egg, ...      1"
            ]
          },
          "metadata": {},
          "execution_count": 8
        }
      ]
    },
    {
      "cell_type": "code",
      "metadata": {
        "colab": {
          "base_uri": "https://localhost:8080/"
        },
        "id": "pdFcVDM2u-JW",
        "outputId": "c363e707-bfb8-41dc-f049-f79e76580f05"
      },
      "source": [
        "sentence_length = data['sentence'].map(lambda x: len(x))\n",
        "sentence_length.describe()"
      ],
      "execution_count": 9,
      "outputs": [
        {
          "output_type": "execute_result",
          "data": {
            "text/plain": [
              "count    10000.000000\n",
              "mean        65.359100\n",
              "std         56.089644\n",
              "min          0.000000\n",
              "25%         27.000000\n",
              "50%         50.000000\n",
              "75%         86.000000\n",
              "max        500.000000\n",
              "Name: sentence, dtype: float64"
            ]
          },
          "metadata": {},
          "execution_count": 9
        }
      ]
    },
    {
      "cell_type": "code",
      "metadata": {
        "colab": {
          "base_uri": "https://localhost:8080/",
          "height": 265
        },
        "id": "AR8FU6PMv4mF",
        "outputId": "2a943d78-08d2-4525-cbd8-f6ff507ea3e3"
      },
      "source": [
        "plt.hist(sentence_length)\n",
        "plt.show()"
      ],
      "execution_count": 10,
      "outputs": [
        {
          "output_type": "display_data",
          "data": {
            "image/png": "[encoded data removed]",
            "text/plain": [
              "<Figure size 432x288 with 1 Axes>"
            ]
          },
          "metadata": {
            "needs_background": "light"
          }
        }
      ]
    },
    {
      "cell_type": "code",
      "metadata": {
        "id": "rXSn9fqwVqdy"
      },
      "source": [
        "X_train_word, X_test_word, y_train, y_test = train_test_split(data.sentence, data.label, test_size=0.2, random_state=42)"
      ],
      "execution_count": 11,
      "outputs": []
    },
    {
      "cell_type": "code",
      "metadata": {
        "id": "kCtDQFY9AiDn"
      },
      "source": [
        "tokenizer = Tokenizer()\n",
        "tokenizer.fit_on_texts(X_train_word)"
      ],
      "execution_count": 12,
      "outputs": []
    },
    {
      "cell_type": "code",
      "metadata": {
        "colab": {
          "base_uri": "https://localhost:8080/"
        },
        "id": "WFzFHXho6dbV",
        "outputId": "15cd78dc-b8c2-431d-91d9-abd352429095"
      },
      "source": [
        "max_length = 150\n",
        "vocab_size = len(tokenizer.word_index)+1\n",
        "X_train = pad_sequences(tokenizer.texts_to_sequences(X_train_word), maxlen=max_length)\n",
        "X_test = pad_sequences(tokenizer.texts_to_sequences(X_test_word), maxlen=max_length)\n",
        "\n",
        "print(f'shape of training data: {X_train.shape}')\n",
        "print(f'shape of test data: {X_test.shape}')\n",
        "print(f'maximum index: {vocab_size}')\n",
        "print(f'maximum index of training data: {np.max(X_train)}')"
      ],
      "execution_count": 13,
      "outputs": [
        {
          "output_type": "stream",
          "name": "stdout",
          "text": [
            "shape of training data: (8000, 150)\n",
            "shape of test data: (2000, 150)\n",
            "maximum index: 25873\n",
            "maximum index of training data: 25872\n"
          ]
        }
      ]
    },
    {
      "cell_type": "code",
      "metadata": {
        "colab": {
          "base_uri": "https://localhost:8080/"
        },
        "id": "N-M8DOuaBRR2",
        "outputId": "a0aab4f6-fa3e-487c-ac9e-bbc806f26370"
      },
      "source": [
        "example = [['my', 'wife', 'took', 'me', 'here']]\n",
        "pad_sequences(tokenizer.texts_to_sequences(example), maxlen=10)"
      ],
      "execution_count": 14,
      "outputs": [
        {
          "output_type": "execute_result",
          "data": {
            "text/plain": [
              "array([[  0,   0,   0,   0,   0,   0,   0,   0, 348, 135]], dtype=int32)"
            ]
          },
          "metadata": {},
          "execution_count": 14
        }
      ]
    },
    {
      "cell_type": "markdown",
      "metadata": {
        "id": "jrb5ATy6xNG6"
      },
      "source": [
        "## Word to Vector"
      ]
    },
    {
      "cell_type": "code",
      "metadata": {
        "id": "NV_gUIC1FLDu"
      },
      "source": [
        "def get_similar_word(w2v_model, words, topn=10):\n",
        "  similar_df = pd.DataFrame()\n",
        "  for word in words:\n",
        "    try:\n",
        "      similar_words = pd.DataFrame(\n",
        "          w2v_model.wv.most_similar(word, topn=topn),\n",
        "          columns=[word, 'cos'])\n",
        "      \n",
        "      similar_df = pd.concat([similar_df, similar_words], axis=1)\n",
        "    \n",
        "    except:\n",
        "      print(word, \"not found in Word2Vec model!\")\n",
        "  \n",
        "  return similar_df"
      ],
      "execution_count": 15,
      "outputs": []
    },
    {
      "cell_type": "code",
      "metadata": {
        "id": "R9DLf0tV0TIA"
      },
      "source": [
        "w2v_pretrain = False\n",
        "w2v_pretrain_name = None\n",
        "embedding_dim = 250"
      ],
      "execution_count": 16,
      "outputs": []
    },
    {
      "cell_type": "code",
      "metadata": {
        "id": "DkAGjwn7V3Pa"
      },
      "source": [
        "if w2v_pretrain:\n",
        "  w2v_model = Word2Vec.load(w2v_pretrain_name)\n",
        "\n",
        "else:\n",
        "  w2v_model = Word2Vec(X_train_word, min_count=1, size=embedding_dim, iter=10, sg=1)\n",
        "  w2v_model.save('w2v_model_weight.pth')"
      ],
      "execution_count": 17,
      "outputs": []
    },
    {
      "cell_type": "code",
      "metadata": {
        "colab": {
          "base_uri": "https://localhost:8080/"
        },
        "id": "SboYa18BXi8g",
        "outputId": "55d139b9-4e7c-40dc-c399-e72c31e41111"
      },
      "source": [
        "vocab_size = len(tokenizer.word_index)+1\n",
        "vocab_size"
      ],
      "execution_count": 18,
      "outputs": [
        {
          "output_type": "execute_result",
          "data": {
            "text/plain": [
              "25873"
            ]
          },
          "metadata": {},
          "execution_count": 18
        }
      ]
    },
    {
      "cell_type": "code",
      "metadata": {
        "colab": {
          "base_uri": "https://localhost:8080/",
          "height": 258
        },
        "id": "MFRoi0i-E57l",
        "outputId": "fc871101-fa9d-4928-8ba3-c342f032609f"
      },
      "source": [
        "get_similar_word(w2v_model, ['my', 'wife', 'took', 'me', 'here'])[:5]"
      ],
      "execution_count": 19,
      "outputs": [
        {
          "output_type": "stream",
          "name": "stdout",
          "text": [
            "my not found in Word2Vec model!\n",
            "me not found in Word2Vec model!\n",
            "here not found in Word2Vec model!\n"
          ]
        },
        {
          "output_type": "execute_result",
          "data": {
            "text/html": [
              "<div>\n",
              "<style scoped>\n",
              "    .dataframe tbody tr th:only-of-type {\n",
              "        vertical-align: middle;\n",
              "    }\n",
              "\n",
              "    .dataframe tbody tr th {\n",
              "        vertical-align: top;\n",
              "    }\n",
              "\n",
              "    .dataframe thead th {\n",
              "        text-align: right;\n",
              "    }\n",
              "</style>\n",
              "<table border=\"1\" class=\"dataframe\">\n",
              "  <thead>\n",
              "    <tr style=\"text-align: right;\">\n",
              "      <th></th>\n",
              "      <th>wife</th>\n",
              "      <th>cos</th>\n",
              "      <th>took</th>\n",
              "      <th>cos</th>\n",
              "    </tr>\n",
              "  </thead>\n",
              "  <tbody>\n",
              "    <tr>\n",
              "      <th>0</th>\n",
              "      <td>dad</td>\n",
              "      <td>0.712222</td>\n",
              "      <td>taking</td>\n",
              "      <td>0.671477</td>\n",
              "    </tr>\n",
              "    <tr>\n",
              "      <th>1</th>\n",
              "      <td>husbands</td>\n",
              "      <td>0.710834</td>\n",
              "      <td>taken</td>\n",
              "      <td>0.626055</td>\n",
              "    </tr>\n",
              "    <tr>\n",
              "      <th>2</th>\n",
              "      <td>bf</td>\n",
              "      <td>0.704333</td>\n",
              "      <td>takes</td>\n",
              "      <td>0.601978</td>\n",
              "    </tr>\n",
              "    <tr>\n",
              "      <th>3</th>\n",
              "      <td>bday</td>\n",
              "      <td>0.683275</td>\n",
              "      <td>placing</td>\n",
              "      <td>0.594645</td>\n",
              "    </tr>\n",
              "    <tr>\n",
              "      <th>4</th>\n",
              "      <td>brother</td>\n",
              "      <td>0.681257</td>\n",
              "      <td>threw</td>\n",
              "      <td>0.573822</td>\n",
              "    </tr>\n",
              "  </tbody>\n",
              "</table>\n",
              "</div>"
            ],
            "text/plain": [
              "       wife       cos     took       cos\n",
              "0       dad  0.712222   taking  0.671477\n",
              "1  husbands  0.710834    taken  0.626055\n",
              "2        bf  0.704333    takes  0.601978\n",
              "3      bday  0.683275  placing  0.594645\n",
              "4   brother  0.681257    threw  0.573822"
            ]
          },
          "metadata": {},
          "execution_count": 19
        }
      ]
    },
    {
      "cell_type": "code",
      "metadata": {
        "id": "VRtxUcn0Y4fH",
        "colab": {
          "base_uri": "https://localhost:8080/"
        },
        "outputId": "97c27b26-1e71-4890-a964-658303d03674"
      },
      "source": [
        "embedding_matrix = np.zeros((vocab_size, embedding_dim))\n",
        "for word, i in tokenizer.word_index.items():\n",
        "  if word in w2v_model.wv:\n",
        "    embedding_matrix[i] = w2v_model.wv[word]\n",
        "\n",
        "print(embedding_matrix.shape)"
      ],
      "execution_count": 20,
      "outputs": [
        {
          "output_type": "stream",
          "name": "stdout",
          "text": [
            "(25873, 250)\n"
          ]
        }
      ]
    },
    {
      "cell_type": "code",
      "metadata": {
        "id": "-I7rLauVIgdq",
        "colab": {
          "base_uri": "https://localhost:8080/"
        },
        "outputId": "3bb4750a-2642-4730-b80a-d5cc855b4e7e"
      },
      "source": [
        "for word, i in tokenizer.word_index.items():\n",
        "  print(word, i)\n",
        "  if i == 10: break"
      ],
      "execution_count": 21,
      "outputs": [
        {
          "output_type": "stream",
          "name": "stdout",
          "text": [
            "good 1\n",
            "place 2\n",
            "food 3\n",
            "great 4\n",
            "like 5\n",
            "one 6\n",
            "get 7\n",
            "go 8\n",
            "time 9\n",
            "really 10\n"
          ]
        }
      ]
    },
    {
      "cell_type": "markdown",
      "metadata": {
        "id": "ieyDmtUBCtmL"
      },
      "source": [
        "# Training step"
      ]
    },
    {
      "cell_type": "markdown",
      "metadata": {
        "id": "dyyqQNSbkWEa"
      },
      "source": [
        "## CNN Model"
      ]
    },
    {
      "cell_type": "code",
      "metadata": {
        "id": "oKqFlWB3iX3K",
        "colab": {
          "base_uri": "https://localhost:8080/"
        },
        "outputId": "4ac50728-68d3-42cd-a6c7-4f5e6c2c184a"
      },
      "source": [
        "cnn_model = Sequential()\n",
        "\n",
        "embedding_layer = Embedding(\n",
        "    vocab_size, embedding_dim,\n",
        "    weights=[embedding_matrix],\n",
        "    input_length=max_length,\n",
        "    trainable=False)\n",
        "\n",
        "cnn_model.add(embedding_layer)\n",
        "cnn_model.add(Dropout(0.5))\n",
        "cnn_model.add(Conv1D(128, 16, activation='relu'))\n",
        "cnn_model.add(Dropout(0.2))\n",
        "cnn_model.add(Conv1D(128, 16, activation='relu'))\n",
        "cnn_model.add(Dropout(0.2))\n",
        "cnn_model.add(Conv1D(128, 16, activation='relu'))\n",
        "cnn_model.add(Flatten())\n",
        "cnn_model.add(Dense(2, activation='softmax'))\n",
        "cnn_model.summary()"
      ],
      "execution_count": 22,
      "outputs": [
        {
          "output_type": "stream",
          "name": "stdout",
          "text": [
            "Model: \"sequential\"\n",
            "_________________________________________________________________\n",
            " Layer (type)                Output Shape              Param #   \n",
            "=================================================================\n",
            " embedding (Embedding)       (None, 150, 250)          6468250   \n",
            "                                                                 \n",
            " dropout (Dropout)           (None, 150, 250)          0         \n",
            "                                                                 \n",
            " conv1d (Conv1D)             (None, 135, 128)          512128    \n",
            "                                                                 \n",
            " dropout_1 (Dropout)         (None, 135, 128)          0         \n",
            "                                                                 \n",
            " conv1d_1 (Conv1D)           (None, 120, 128)          262272    \n",
            "                                                                 \n",
            " dropout_2 (Dropout)         (None, 120, 128)          0         \n",
            "                                                                 \n",
            " conv1d_2 (Conv1D)           (None, 105, 128)          262272    \n",
            "                                                                 \n",
            " flatten (Flatten)           (None, 13440)             0         \n",
            "                                                                 \n",
            " dense (Dense)               (None, 2)                 26882     \n",
            "                                                                 \n",
            "=================================================================\n",
            "Total params: 7,531,804\n",
            "Trainable params: 1,063,554\n",
            "Non-trainable params: 6,468,250\n",
            "_________________________________________________________________\n"
          ]
        }
      ]
    },
    {
      "cell_type": "code",
      "metadata": {
        "id": "4fbMRQVhtzMe"
      },
      "source": [
        "def lr_schedule(epoch, lr):\n",
        "  if epoch % 5 == 4:\n",
        "    lr *= 0.8\n",
        " \n",
        "  return lr\n",
        "\n",
        "callback = tf.keras.callbacks.LearningRateScheduler(lr_schedule)"
      ],
      "execution_count": 23,
      "outputs": []
    },
    {
      "cell_type": "code",
      "metadata": {
        "id": "UTzgmtn-lTni"
      },
      "source": [
        "cnn_model.compile(\n",
        "    loss='sparse_categorical_crossentropy',\n",
        "    optimizer='adam',\n",
        "    metrics=['accuracy'])"
      ],
      "execution_count": 24,
      "outputs": []
    },
    {
      "cell_type": "code",
      "metadata": {
        "id": "UjGQu4Aql5Q-",
        "colab": {
          "base_uri": "https://localhost:8080/"
        },
        "outputId": "0e4fa97d-6a44-4c7b-c1b1-21579d218cef"
      },
      "source": [
        "cnn_record = cnn_model.fit(\n",
        "    X_train, y_train,\n",
        "    batch_size=1024, epochs=30,\n",
        "    validation_split=0.2,\n",
        "    callbacks=[callback],\n",
        "    verbose=1)"
      ],
      "execution_count": 25,
      "outputs": [
        {
          "output_type": "stream",
          "name": "stdout",
          "text": [
            "Epoch 1/30\n",
            "7/7 [==============================] - 8s 590ms/step - loss: 0.8226 - accuracy: 0.6583 - val_loss: 0.6470 - val_accuracy: 0.6931 - lr: 0.0010\n",
            "Epoch 2/30\n",
            "7/7 [==============================] - 3s 381ms/step - loss: 0.6607 - accuracy: 0.6648 - val_loss: 0.6298 - val_accuracy: 0.6931 - lr: 0.0010\n",
            "Epoch 3/30\n",
            "7/7 [==============================] - 3s 380ms/step - loss: 0.6325 - accuracy: 0.6798 - val_loss: 0.6126 - val_accuracy: 0.6931 - lr: 0.0010\n",
            "Epoch 4/30\n",
            "7/7 [==============================] - 3s 381ms/step - loss: 0.6021 - accuracy: 0.6805 - val_loss: 0.5706 - val_accuracy: 0.7031 - lr: 0.0010\n",
            "Epoch 5/30\n",
            "7/7 [==============================] - 3s 380ms/step - loss: 0.5582 - accuracy: 0.7020 - val_loss: 0.5174 - val_accuracy: 0.7356 - lr: 8.0000e-04\n",
            "Epoch 6/30\n",
            "7/7 [==============================] - 3s 379ms/step - loss: 0.5108 - accuracy: 0.7422 - val_loss: 0.4827 - val_accuracy: 0.7631 - lr: 8.0000e-04\n",
            "Epoch 7/30\n",
            "7/7 [==============================] - 3s 381ms/step - loss: 0.4822 - accuracy: 0.7723 - val_loss: 0.5222 - val_accuracy: 0.7513 - lr: 8.0000e-04\n",
            "Epoch 8/30\n",
            "7/7 [==============================] - 3s 383ms/step - loss: 0.4954 - accuracy: 0.7630 - val_loss: 0.4569 - val_accuracy: 0.7812 - lr: 8.0000e-04\n",
            "Epoch 9/30\n",
            "7/7 [==============================] - 3s 380ms/step - loss: 0.4808 - accuracy: 0.7703 - val_loss: 0.4440 - val_accuracy: 0.7912 - lr: 8.0000e-04\n",
            "Epoch 10/30\n",
            "7/7 [==============================] - 3s 384ms/step - loss: 0.4501 - accuracy: 0.7870 - val_loss: 0.4373 - val_accuracy: 0.7937 - lr: 6.4000e-04\n",
            "Epoch 11/30\n",
            "7/7 [==============================] - 3s 383ms/step - loss: 0.4461 - accuracy: 0.7911 - val_loss: 0.4341 - val_accuracy: 0.7981 - lr: 6.4000e-04\n",
            "Epoch 12/30\n",
            "7/7 [==============================] - 3s 390ms/step - loss: 0.4328 - accuracy: 0.8012 - val_loss: 0.4367 - val_accuracy: 0.7969 - lr: 6.4000e-04\n",
            "Epoch 13/30\n",
            "7/7 [==============================] - 3s 385ms/step - loss: 0.4326 - accuracy: 0.7981 - val_loss: 0.4215 - val_accuracy: 0.8056 - lr: 6.4000e-04\n",
            "Epoch 14/30\n",
            "7/7 [==============================] - 3s 385ms/step - loss: 0.4290 - accuracy: 0.8016 - val_loss: 0.4344 - val_accuracy: 0.8012 - lr: 6.4000e-04\n",
            "Epoch 15/30\n",
            "7/7 [==============================] - 3s 387ms/step - loss: 0.4212 - accuracy: 0.8080 - val_loss: 0.4170 - val_accuracy: 0.8044 - lr: 5.1200e-04\n",
            "Epoch 16/30\n",
            "7/7 [==============================] - 3s 385ms/step - loss: 0.4238 - accuracy: 0.8095 - val_loss: 0.4176 - val_accuracy: 0.8062 - lr: 5.1200e-04\n",
            "Epoch 17/30\n",
            "7/7 [==============================] - 3s 385ms/step - loss: 0.4190 - accuracy: 0.8053 - val_loss: 0.4162 - val_accuracy: 0.8044 - lr: 5.1200e-04\n",
            "Epoch 18/30\n",
            "7/7 [==============================] - 3s 389ms/step - loss: 0.4142 - accuracy: 0.8112 - val_loss: 0.4375 - val_accuracy: 0.7937 - lr: 5.1200e-04\n",
            "Epoch 19/30\n",
            "7/7 [==============================] - 3s 390ms/step - loss: 0.4098 - accuracy: 0.8072 - val_loss: 0.4471 - val_accuracy: 0.7850 - lr: 5.1200e-04\n",
            "Epoch 20/30\n",
            "7/7 [==============================] - 3s 388ms/step - loss: 0.4052 - accuracy: 0.8128 - val_loss: 0.4420 - val_accuracy: 0.7912 - lr: 4.0960e-04\n",
            "Epoch 21/30\n",
            "7/7 [==============================] - 3s 389ms/step - loss: 0.4047 - accuracy: 0.8144 - val_loss: 0.4182 - val_accuracy: 0.8112 - lr: 4.0960e-04\n",
            "Epoch 22/30\n",
            "7/7 [==============================] - 3s 388ms/step - loss: 0.3980 - accuracy: 0.8194 - val_loss: 0.4206 - val_accuracy: 0.8081 - lr: 4.0960e-04\n",
            "Epoch 23/30\n",
            "7/7 [==============================] - 3s 388ms/step - loss: 0.3917 - accuracy: 0.8234 - val_loss: 0.4241 - val_accuracy: 0.8044 - lr: 4.0960e-04\n",
            "Epoch 24/30\n",
            "7/7 [==============================] - 3s 388ms/step - loss: 0.3898 - accuracy: 0.8238 - val_loss: 0.4198 - val_accuracy: 0.8062 - lr: 4.0960e-04\n",
            "Epoch 25/30\n",
            "7/7 [==============================] - 3s 387ms/step - loss: 0.3918 - accuracy: 0.8195 - val_loss: 0.4140 - val_accuracy: 0.8119 - lr: 3.2768e-04\n",
            "Epoch 26/30\n",
            "7/7 [==============================] - 3s 387ms/step - loss: 0.3941 - accuracy: 0.8223 - val_loss: 0.4144 - val_accuracy: 0.8144 - lr: 3.2768e-04\n",
            "Epoch 27/30\n",
            "7/7 [==============================] - 3s 390ms/step - loss: 0.3821 - accuracy: 0.8266 - val_loss: 0.4118 - val_accuracy: 0.8119 - lr: 3.2768e-04\n",
            "Epoch 28/30\n",
            "7/7 [==============================] - 3s 387ms/step - loss: 0.3890 - accuracy: 0.8250 - val_loss: 0.4123 - val_accuracy: 0.8087 - lr: 3.2768e-04\n",
            "Epoch 29/30\n",
            "7/7 [==============================] - 3s 388ms/step - loss: 0.3788 - accuracy: 0.8292 - val_loss: 0.4121 - val_accuracy: 0.8081 - lr: 3.2768e-04\n",
            "Epoch 30/30\n",
            "7/7 [==============================] - 3s 387ms/step - loss: 0.3782 - accuracy: 0.8302 - val_loss: 0.4123 - val_accuracy: 0.8100 - lr: 2.6214e-04\n"
          ]
        }
      ]
    },
    {
      "cell_type": "markdown",
      "metadata": {
        "id": "6dZyOxDZkQTf"
      },
      "source": [
        "## LSTM Model"
      ]
    },
    {
      "cell_type": "code",
      "metadata": {
        "id": "IhfaB69sZybQ",
        "colab": {
          "base_uri": "https://localhost:8080/"
        },
        "outputId": "14eb53d1-7fa2-4c17-9ce0-f499dbe24682"
      },
      "source": [
        "lstm_model = Sequential()\n",
        "\n",
        "embedding_layer = Embedding(\n",
        "    vocab_size, embedding_dim,\n",
        "    weights=[embedding_matrix],\n",
        "    input_length=max_length, trainable=False)\n",
        "\n",
        "lstm_model.add(embedding_layer)\n",
        "lstm_model.add(Dropout(0.5))\n",
        "lstm_model.add(LSTM(100, dropout=0.2, recurrent_dropout=0.2))\n",
        "lstm_model.add(Dense(1, activation='sigmoid'))\n",
        "lstm_model.summary()"
      ],
      "execution_count": 26,
      "outputs": [
        {
          "output_type": "stream",
          "name": "stdout",
          "text": [
            "WARNING:tensorflow:Layer lstm will not use cuDNN kernels since it doesn't meet the criteria. It will use a generic GPU kernel as fallback when running on GPU.\n",
            "Model: \"sequential_1\"\n",
            "_________________________________________________________________\n",
            " Layer (type)                Output Shape              Param #   \n",
            "=================================================================\n",
            " embedding_1 (Embedding)     (None, 150, 250)          6468250   \n",
            "                                                                 \n",
            " dropout_3 (Dropout)         (None, 150, 250)          0         \n",
            "                                                                 \n",
            " lstm (LSTM)                 (None, 100)               140400    \n",
            "                                                                 \n",
            " dense_1 (Dense)             (None, 1)                 101       \n",
            "                                                                 \n",
            "=================================================================\n",
            "Total params: 6,608,751\n",
            "Trainable params: 140,501\n",
            "Non-trainable params: 6,468,250\n",
            "_________________________________________________________________\n"
          ]
        }
      ]
    },
    {
      "cell_type": "code",
      "metadata": {
        "id": "Y_pcFamqZz6H"
      },
      "source": [
        "lstm_model.compile(\n",
        "    loss='binary_crossentropy',\n",
        "    optimizer=\"adam\",\n",
        "    metrics=['accuracy']\n",
        ")"
      ],
      "execution_count": 27,
      "outputs": []
    },
    {
      "cell_type": "code",
      "metadata": {
        "id": "wJ6K_N0EZ532",
        "colab": {
          "base_uri": "https://localhost:8080/"
        },
        "outputId": "9917e6b8-cf5d-4b36-9bd5-65cdd9af8037"
      },
      "source": [
        "lstm_record = lstm_model.fit(\n",
        "    X_train, y_train,\n",
        "    batch_size=1024, epochs=30,\n",
        "    validation_split=0.2, verbose=1)"
      ],
      "execution_count": 28,
      "outputs": [
        {
          "output_type": "stream",
          "name": "stdout",
          "text": [
            "Epoch 1/30\n",
            "7/7 [==============================] - 11s 1s/step - loss: 0.6328 - accuracy: 0.6756 - val_loss: 0.5980 - val_accuracy: 0.6931\n",
            "Epoch 2/30\n",
            "7/7 [==============================] - 7s 943ms/step - loss: 0.6043 - accuracy: 0.6802 - val_loss: 0.5720 - val_accuracy: 0.6950\n",
            "Epoch 3/30\n",
            "7/7 [==============================] - 6s 918ms/step - loss: 0.5721 - accuracy: 0.6894 - val_loss: 0.4884 - val_accuracy: 0.7638\n",
            "Epoch 4/30\n",
            "7/7 [==============================] - 7s 944ms/step - loss: 0.5104 - accuracy: 0.7533 - val_loss: 0.4915 - val_accuracy: 0.7538\n",
            "Epoch 5/30\n",
            "7/7 [==============================] - 7s 963ms/step - loss: 0.4642 - accuracy: 0.7861 - val_loss: 0.4477 - val_accuracy: 0.7962\n",
            "Epoch 6/30\n",
            "7/7 [==============================] - 7s 960ms/step - loss: 0.4526 - accuracy: 0.7952 - val_loss: 0.4387 - val_accuracy: 0.8019\n",
            "Epoch 7/30\n",
            "7/7 [==============================] - 7s 967ms/step - loss: 0.4391 - accuracy: 0.8030 - val_loss: 0.4404 - val_accuracy: 0.8037\n",
            "Epoch 8/30\n",
            "7/7 [==============================] - 7s 985ms/step - loss: 0.4391 - accuracy: 0.8020 - val_loss: 0.4352 - val_accuracy: 0.7981\n",
            "Epoch 9/30\n",
            "7/7 [==============================] - 7s 981ms/step - loss: 0.4377 - accuracy: 0.7987 - val_loss: 0.4614 - val_accuracy: 0.7950\n",
            "Epoch 10/30\n",
            "7/7 [==============================] - 7s 970ms/step - loss: 0.4306 - accuracy: 0.8033 - val_loss: 0.4138 - val_accuracy: 0.8181\n",
            "Epoch 11/30\n",
            "7/7 [==============================] - 7s 963ms/step - loss: 0.4282 - accuracy: 0.8014 - val_loss: 0.4171 - val_accuracy: 0.8094\n",
            "Epoch 12/30\n",
            "7/7 [==============================] - 7s 962ms/step - loss: 0.4295 - accuracy: 0.8042 - val_loss: 0.4702 - val_accuracy: 0.8125\n",
            "Epoch 13/30\n",
            "7/7 [==============================] - 7s 989ms/step - loss: 0.4230 - accuracy: 0.8134 - val_loss: 0.4348 - val_accuracy: 0.8075\n",
            "Epoch 14/30\n",
            "7/7 [==============================] - 7s 992ms/step - loss: 0.4227 - accuracy: 0.8122 - val_loss: 0.4035 - val_accuracy: 0.8169\n",
            "Epoch 15/30\n",
            "7/7 [==============================] - 7s 990ms/step - loss: 0.4246 - accuracy: 0.8058 - val_loss: 0.4678 - val_accuracy: 0.8056\n",
            "Epoch 16/30\n",
            "7/7 [==============================] - 7s 949ms/step - loss: 0.4347 - accuracy: 0.7984 - val_loss: 0.4172 - val_accuracy: 0.8188\n",
            "Epoch 17/30\n",
            "7/7 [==============================] - 7s 953ms/step - loss: 0.4203 - accuracy: 0.8083 - val_loss: 0.4362 - val_accuracy: 0.7975\n",
            "Epoch 18/30\n",
            "7/7 [==============================] - 7s 989ms/step - loss: 0.4160 - accuracy: 0.8087 - val_loss: 0.4223 - val_accuracy: 0.8112\n",
            "Epoch 19/30\n",
            "7/7 [==============================] - 7s 982ms/step - loss: 0.4080 - accuracy: 0.8177 - val_loss: 0.4069 - val_accuracy: 0.8200\n",
            "Epoch 20/30\n",
            "7/7 [==============================] - 7s 980ms/step - loss: 0.4069 - accuracy: 0.8173 - val_loss: 0.4116 - val_accuracy: 0.8169\n",
            "Epoch 21/30\n",
            "7/7 [==============================] - 7s 981ms/step - loss: 0.4077 - accuracy: 0.8159 - val_loss: 0.4086 - val_accuracy: 0.8156\n",
            "Epoch 22/30\n",
            "7/7 [==============================] - 7s 973ms/step - loss: 0.4139 - accuracy: 0.8122 - val_loss: 0.4184 - val_accuracy: 0.8150\n",
            "Epoch 23/30\n",
            "7/7 [==============================] - 7s 961ms/step - loss: 0.4087 - accuracy: 0.8114 - val_loss: 0.4051 - val_accuracy: 0.8144\n",
            "Epoch 24/30\n",
            "7/7 [==============================] - 7s 973ms/step - loss: 0.4062 - accuracy: 0.8175 - val_loss: 0.4001 - val_accuracy: 0.8194\n",
            "Epoch 25/30\n",
            "7/7 [==============================] - 7s 993ms/step - loss: 0.4056 - accuracy: 0.8139 - val_loss: 0.4042 - val_accuracy: 0.8188\n",
            "Epoch 26/30\n",
            "7/7 [==============================] - 7s 989ms/step - loss: 0.4030 - accuracy: 0.8136 - val_loss: 0.4222 - val_accuracy: 0.8138\n",
            "Epoch 27/30\n",
            "7/7 [==============================] - 7s 1s/step - loss: 0.3983 - accuracy: 0.8208 - val_loss: 0.4157 - val_accuracy: 0.8125\n",
            "Epoch 28/30\n",
            "7/7 [==============================] - 7s 977ms/step - loss: 0.4027 - accuracy: 0.8173 - val_loss: 0.3981 - val_accuracy: 0.8156\n",
            "Epoch 29/30\n",
            "7/7 [==============================] - 7s 961ms/step - loss: 0.4029 - accuracy: 0.8131 - val_loss: 0.4692 - val_accuracy: 0.8081\n",
            "Epoch 30/30\n",
            "7/7 [==============================] - 7s 978ms/step - loss: 0.3972 - accuracy: 0.8205 - val_loss: 0.4233 - val_accuracy: 0.8075\n"
          ]
        }
      ]
    },
    {
      "cell_type": "markdown",
      "metadata": {
        "id": "BOC6j0o0lNkM"
      },
      "source": [
        "# Evaluation"
      ]
    },
    {
      "cell_type": "code",
      "metadata": {
        "id": "QQTqjVwK01s5"
      },
      "source": [
        "def plot_acc(record):\n",
        "  epochs = range(len(record.history['accuracy']))\n",
        "  train_acc = record.history['accuracy']\n",
        "  valid_acc = record.history['val_accuracy']\n",
        "\n",
        "  plt.figure(figsize=(8,6))\n",
        "  plt.plot(epochs, train_acc, 'o-', label='training accuracy')\n",
        "  plt.plot(epochs, valid_acc, 'o-', label='validation accuracy')\n",
        "  plt.ylim([0.6, 0.85])\n",
        "  plt.xlabel('epoch', fontsize=12)\n",
        "  plt.ylabel('accuracy', fontsize=12)\n",
        "  plt.legend(loc='lower right')\n",
        "  plt.grid()\n",
        "  plt.show()\n",
        "\n",
        "  return None\n",
        "\n",
        "\n",
        "def plot_loss(record):\n",
        "  epochs = range(len(record.history['loss']))\n",
        "  train_loss = record.history['loss']\n",
        "  valid_loss = record.history['val_loss']\n",
        "\n",
        "  plt.figure(figsize=(8,6))\n",
        "  plt.plot(epochs, train_loss, 'o-', label='training loss')\n",
        "  plt.plot(epochs, valid_loss, 'o-', label='validation loss')\n",
        "  plt.xlabel('epoch', fontsize=12)\n",
        "  plt.ylabel('loss', fontsize=12)\n",
        "  plt.legend()\n",
        "  plt.grid()\n",
        "  plt.gca().xaxis.set_major_locator(MaxNLocator(integer=True))\n",
        "  plt.show()\n",
        "\n",
        "  return None"
      ],
      "execution_count": 29,
      "outputs": []
    },
    {
      "cell_type": "code",
      "metadata": {
        "id": "yMIeR2sqslsZ",
        "colab": {
          "base_uri": "https://localhost:8080/",
          "height": 804
        },
        "outputId": "341defeb-ec75-47bd-9cbb-1827694f4137"
      },
      "source": [
        "test_loss, test_acc = cnn_model.evaluate(X_test, y_test, verbose=2)\n",
        "print(test_acc)\n",
        "\n",
        "plot_acc(cnn_record)\n",
        "plot_loss(cnn_record)"
      ],
      "execution_count": 30,
      "outputs": [
        {
          "output_type": "stream",
          "name": "stdout",
          "text": [
            "63/63 - 1s - loss: 0.4120 - accuracy: 0.8160 - 752ms/epoch - 12ms/step\n",
            "0.8159999847412109\n"
          ]
        },
        {
          "output_type": "display_data",
          "data": {
            "image/png": "[encoded data removed]",
            "text/plain": [
              "<Figure size 576x432 with 1 Axes>"
            ]
          },
          "metadata": {
            "needs_background": "light"
          }
        },
        {
          "output_type": "display_data",
          "data": {
            "image/png": "[encoded data removed]",
            "text/plain": [
              "<Figure size 576x432 with 1 Axes>"
            ]
          },
          "metadata": {
            "needs_background": "light"
          }
        }
      ]
    },
    {
      "cell_type": "code",
      "metadata": {
        "id": "XMinXmyn1cge",
        "colab": {
          "base_uri": "https://localhost:8080/",
          "height": 804
        },
        "outputId": "09ea0628-1cd3-4634-c095-10b58bf74bfc"
      },
      "source": [
        "test_loss, test_acc = lstm_model.evaluate(X_test, y_test, verbose=2)\n",
        "print(test_acc)\n",
        "\n",
        "plot_acc(lstm_record)\n",
        "plot_loss(lstm_record)"
      ],
      "execution_count": 31,
      "outputs": [
        {
          "output_type": "stream",
          "name": "stdout",
          "text": [
            "63/63 - 4s - loss: 0.4340 - accuracy: 0.8035 - 4s/epoch - 60ms/step\n",
            "0.8034999966621399\n"
          ]
        },
        {
          "output_type": "display_data",
          "data": {
            "image/png": "[encoded data removed]",
            "text/plain": [
              "<Figure size 576x432 with 1 Axes>"
            ]
          },
          "metadata": {
            "needs_background": "light"
          }
        },
        {
          "output_type": "display_data",
          "data": {
            "image/png": "[encoded data removed]",
            "text/plain": [
              "<Figure size 576x432 with 1 Axes>"
            ]
          },
          "metadata": {
            "needs_background": "light"
          }
        }
      ]
    },
    {
      "cell_type": "code",
      "metadata": {
        "id": "g3zuH6gYi2nz"
      },
      "source": [
        ""
      ],
      "execution_count": 31,
      "outputs": []
    }
  ]
}